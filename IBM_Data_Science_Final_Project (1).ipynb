{
 "cells": [
  {
   "cell_type": "markdown",
   "id": "002f0317",
   "metadata": {},
   "source": [
    "# Data Science Tools and Ecosystem"
   ]
  },
  {
   "cell_type": "markdown",
   "id": "33807212",
   "metadata": {},
   "source": [
    "In this notebook, we will explore various tools, libraries, and concepts related to Data Science."
   ]
  },
  {
   "cell_type": "markdown",
   "id": "bcd05c67",
   "metadata": {},
   "source": [
    "**Languages used in Data Science:**\n",
    "- Python\n",
    "- R\n",
    "- SQL"
   ]
  },
  {
   "cell_type": "markdown",
   "id": "cfca04d6",
   "metadata": {},
   "source": [
    "**Common Data Science Libraries:**\n",
    "- Pandas\n",
    "- NumPy\n",
    "- Matplotlib\n",
    "- Scikit-learn"
   ]
  },
  {
   "cell_type": "markdown",
   "id": "5a2ab825",
   "metadata": {},
   "source": [
    "| Data Science Tool | Description |\n",
    "|------------------|-------------|\n",
    "| Jupyter Notebook | Interactive environment for coding |\n",
    "| RStudio          | IDE for R programming              |\n",
    "| Apache Spark     | Big data processing framework      |\n"
   ]
  },
  {
   "cell_type": "markdown",
   "id": "b158ea0e",
   "metadata": {},
   "source": [
    "Below are examples of simple arithmetic operations in Python."
   ]
  },
  {
   "cell_type": "code",
   "execution_count": null,
   "id": "e5d990b6",
   "metadata": {},
   "outputs": [],
   "source": [
    "# This expression multiplies 3 by 4 and then adds 5\n",
    "(3 * 4) + 5"
   ]
  },
  {
   "cell_type": "code",
   "execution_count": null,
   "id": "7a2a802f",
   "metadata": {},
   "outputs": [],
   "source": [
    "# Convert 200 minutes to hours by dividing by 60\n",
    "minutes = 200\n",
    "hours = minutes / 60\n",
    "hours"
   ]
  },
  {
   "cell_type": "markdown",
   "id": "b500a43c",
   "metadata": {},
   "source": [
    "**Objectives:**\n",
    "- List popular languages used in Data Science\n",
    "- List commonly used libraries in Data Science\n",
    "- Demonstrate arithmetic expressions in Python"
   ]
  },
  {
   "cell_type": "markdown",
   "id": "b6817967",
   "metadata": {},
   "source": [
    "**Author:** Ahmed Fouda"
   ]
  },
  {
   "cell_type": "markdown",
   "id": "ef19b2dc",
   "metadata": {},
   "source": [
    "**GitHub URL:** https://github.com/Eng-A7med2005/IBM"
   ]
  }
 ],
 "metadata": {
  "kernelspec": {
   "display_name": "Python 3 (ipykernel)",
   "language": "python",
   "name": "python3"
  },
  "language_info": {
   "codemirror_mode": {
    "name": "ipython",
    "version": 3
   },
   "file_extension": ".py",
   "mimetype": "text/x-python",
   "name": "python",
   "nbconvert_exporter": "python",
   "pygments_lexer": "ipython3",
   "version": "3.11.7"
  }
 },
 "nbformat": 4,
 "nbformat_minor": 5
}
